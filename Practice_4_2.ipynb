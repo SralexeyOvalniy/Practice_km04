txt = raw_input("write down something: ")
x = txt.split()
print(x)