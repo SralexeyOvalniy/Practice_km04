Name_list = ["a", "b" , "c"]
salary_list = [5600, 2000, 3700]
products = []

for x in salary_list:
     products.append(0.3*x + x)
S_products = sum(products)
print("The sum equals to: ", S_products)
print(products)
