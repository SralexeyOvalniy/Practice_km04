import re
import math

print("ax^2 + bx + c = 0")
print("D = b^2 + ac ")

while True:
    try:
        a = float(input("a: "))
        b = float(input("b: "))
        c = float(input("c: "))
        D = (b**2 + a*c)

        if D > 0 :
            x1 = ((-b + math.sqrt(D))/(2*a))
            x2 = ((-b - math.sqrt(D))/(2*a))
            print(x1, x2)
        elif D == 0:
            x = ((-b)/2*a)
        elif D < 0:
            raise NameError

        print(D)
        break
    except ValueError:
        print("Error")
    except ZeroDivisionError:
        print("Can't divide by zero")
    except NameError:
        print("дискриминант меньше 0")